{
 "cells": [
  {
   "cell_type": "code",
   "execution_count": 1,
   "id": "dutch-syracuse",
   "metadata": {},
   "outputs": [
    {
     "name": "stdout",
     "output_type": "stream",
     "text": [
      "Packages Loaded from /cvmfs/sft.cern.ch/lcg/views/LCG_96python3/x86_64-centos7-gcc8-opt/bin/python3\n",
      "Welcome to JupyROOT 6.18/00\n",
      "{'IPKernelApp': {'connection_file': '/scratch/akapoor/.local/share/jupyter/runtime/kernel-39fa4ae9-a80f-460a-94c6-9d22c9453156.json'}, 'InteractiveShellApp': {'extensions': <traitlets.config.loader.LazyConfigValue object at 0x7f305e7e2748>}}\n",
      "In IPython\n"
     ]
    }
   ],
   "source": [
    "#!/usr/bin/env python\n",
    "# coding: utf-8\n",
    "\n",
    "import os\n",
    "import sys\n",
    "print(\"Packages Loaded from \"+sys.executable)\n",
    "import tempfile\n",
    "os.environ['MPLCONFIGDIR'] = tempfile.mkdtemp()\n",
    "import matplotlib\n",
    "import matplotlib.pyplot as plt\n",
    "import numpy as np\n",
    "import pandas as pd\n",
    "import optparse, json, argparse, math\n",
    "import ROOT\n",
    "import time\n",
    "from sklearn.preprocessing import LabelEncoder\n",
    "from sklearn.model_selection import cross_val_score\n",
    "from sklearn.model_selection import train_test_split\n",
    "from sklearn.model_selection import GridSearchCV\n",
    "from sklearn.preprocessing import StandardScaler\n",
    "from sklearn.preprocessing import Normalizer\n",
    "from sklearn.preprocessing import MinMaxScaler\n",
    "from sklearn.utils import class_weight\n",
    "from sklearn.metrics import log_loss\n",
    "from os import environ\n",
    "os.environ['KERAS_BACKEND'] = 'tensorflow'\n",
    "import tensorflow as tf\n",
    "from tensorflow.keras import backend as K\n",
    "from tensorflow.keras.utils import to_categorical\n",
    "from tensorflow.keras.utils import plot_model\n",
    "from tensorflow.keras.models import Sequential\n",
    "from tensorflow.keras.layers import Dense,Reshape,Conv2D,MaxPooling2D,ConvLSTM2D\n",
    "from tensorflow.keras.layers import Activation\n",
    "from tensorflow.keras.layers import Flatten\n",
    "from tensorflow.keras.optimizers import Adam\n",
    "from tensorflow.keras.optimizers import Nadam\n",
    "from tensorflow.keras.optimizers import RMSprop\n",
    "from tensorflow.keras.optimizers import Adadelta\n",
    "from tensorflow.keras.optimizers import Adagrad\n",
    "from tensorflow.keras.layers import Dropout\n",
    "from tensorflow.keras.layers import BatchNormalization\n",
    "from tensorflow.keras.models import load_model\n",
    "from tensorflow.keras.wrappers.scikit_learn import KerasClassifier\n",
    "from tensorflow.keras.callbacks import EarlyStopping\n",
    "from root_numpy import root2array, tree2array\n",
    "\n",
    "#import Config as Conf\n",
    "#import ConfigMultiClass as Conf\n",
    "seed = 7\n",
    "##small changes\n",
    "np.random.seed(7)\n",
    "rng = np.random.RandomState(31337)\n",
    "timestr=time.strftime(\"%Y%m%d-%H%M%S\")\n",
    "#from tqdm import tqdm\n",
    "\n",
    "def prGreen(prt): print(\"\\033[92m {}\\033[00m\" .format(prt))\n",
    "    \n",
    "def load_data(inputPath,variables,criteriaf,keysf,sampleNamesf,fileNamesf,targetf):\n",
    "    # Load dataset to .csv format file\n",
    "    my_cols_list=variables+['process', 'key', 'target', 'sampleWeight']\n",
    "    data = pd.DataFrame(columns=my_cols_list)\n",
    "\n",
    "    for key in keysf :\n",
    "        print(key)\n",
    "        sampleNames=sampleNamesf[key]\n",
    "        fileNames = fileNamesf[key]\n",
    "        target=targetf[key]\n",
    "        #criteria=criteriaf[key]\n",
    "        inputTree = 'Friends'\n",
    "        print(sampleNames)\n",
    "\n",
    "        for process_index in range(len(fileNames)):\n",
    "            fileName = fileNames[process_index]\n",
    "            sampleName = sampleNames[process_index]\n",
    "\n",
    "            try: tfile = ROOT.TFile(inputPath+\"/\"+fileName+\".root\")\n",
    "            except :\n",
    "                print(\" file \"+ inputPath+\"/\"+fileName+\".root doesn't exits \")\n",
    "                continue\n",
    "            try: tree = tfile.Get(inputTree)\n",
    "            except :\n",
    "                print(inputTree + \" deosn't exists in \" + inputPath+\"/\"+fileName+\".root\")\n",
    "                continue\n",
    "            if tree is not None :\n",
    "                print('criteria: ', criteriaf[process_index])\n",
    "                #try: chunk_arr = tree2array(tree=tree, selection=criteria, start=0, stop=100) # Can use  start=first entry, stop = final entry desired\n",
    "                try: chunk_arr = tree2array(tree=tree, selection=criteriaf[process_index]) # Can use  start=first entry, stop = final entry desired\n",
    "                except : continue\n",
    "                else :\n",
    "                    chunk_df = pd.DataFrame(chunk_arr, columns=variables)\n",
    "                    chunk_df['process']=sampleName\n",
    "                    chunk_df['key']=key\n",
    "                    chunk_df['target']=target\n",
    "            data = data.append(chunk_df, ignore_index=True)\n",
    "            tfile.Close()\n",
    "        if len(data) == 0 : continue\n",
    "        processfreq = data.groupby('key')\n",
    "        samplefreq = data.groupby('process')         \n",
    "        print(\"TotalWeights = %f\" % (data.iloc[(data.key.values==key)][\"sampleWeight\"].sum()))\n",
    "        nNW = len(data.iloc[(data[\"sampleWeight\"].values < 0) & (data.key.values==key) ])\n",
    "        print(key, \"events with -ve weights\", nNW)\n",
    "    print('<load_data> data columns: ', (data.columns.values.tolist()))\n",
    "    n = len(data)\n",
    "    return data\n",
    "\n",
    "def MakePlots(y_train, y_test, y_test_pred, y_train_pred, Wt_train, Wt_test,ROCMask,keys,od,keycolor):\n",
    "    from sklearn.metrics import roc_curve, auc\n",
    "    fig, axes = plt.subplots(1, len(keys), figsize=(5*len(keys),5))\n",
    "\n",
    "    figMVA, axesMVA = plt.subplots(1, len(keys), figsize=(5*len(keys), 5))\n",
    "\n",
    "    for i in range(len(keys)):\n",
    "        print(i)\n",
    "        ax=axes[i]\n",
    "        axMVA=axesMVA[i]\n",
    "        nodename=keys\n",
    "        trainkeys = [x + '_train' for x in keys]\n",
    "        testkeys = [x + '_test' for x in keys]\n",
    "        for j in range(len(keys)):\n",
    "            axMVA.hist(y_test_pred[:, i][(y_test[:, j]==1)],\n",
    "                       bins=np.linspace(0, 1, 21),label=testkeys[j],\n",
    "                       weights=Wt_test[(y_test[:, j]==1)]/np.sum(Wt_test[(y_test[:, j]==1)]),\n",
    "                       histtype='step',linewidth=4,color=keycolor[j])\n",
    "            axMVA.hist(y_train_pred[:, i][(y_train[:, j]==1)],\n",
    "                       bins=np.linspace(0, 1, 21),label=trainkeys[j],\n",
    "                       weights=Wt_train[(y_train[:, j]==1)]/np.sum(Wt_train[(y_train[:, j]==1)]),\n",
    "                       histtype='stepfilled',alpha=0.2,linewidth=1,color=keycolor[j])\n",
    "            axMVA.set_title('MVA: Node '+str(nodename[i]),fontsize=20)\n",
    "            axMVA.legend(loc=\"upper right\",fontsize=10)\n",
    "            axMVA.set_xlim([0, 1])\n",
    "        \n",
    "        fpr, tpr, th = roc_curve(y_test[:, i], y_test_pred[:, i],sample_weight=Wt_test)\n",
    "        fpr_tr, tpr_tr, th_tr = roc_curve(y_train[:, i], y_train_pred[:, i],sample_weight=Wt_train)\n",
    "        mask1 = tpr > ROCMask\n",
    "        fpr, tpr = fpr[mask1], tpr[mask1]\n",
    "    \n",
    "        mask2 = tpr_tr > ROCMask\n",
    "        fpr_tr, tpr_tr = fpr_tr[mask2], tpr_tr[mask2]\n",
    "    \n",
    "        roc_auc = auc(fpr, tpr)\n",
    "        roc_auc_tr = auc(fpr_tr, tpr_tr)\n",
    "    \n",
    "        ax.plot(tpr, 1-fpr, label='ROC curve test (area = %0.2f)' % roc_auc,linewidth=4)\n",
    "        ax.plot(tpr_tr, 1-fpr_tr, label='ROC curve train (area = %0.2f)' % roc_auc_tr,linewidth=4)\n",
    "        #plt.plot([0, 1], [0, 1], 'k--')\n",
    "        #ax.set_xlim([0.8, 1.0])\n",
    "        #ax.set_ylim([0.0, 1.05])\n",
    "        ax.set_xlabel('Signal efficiency',fontsize=20)\n",
    "        ax.set_ylabel('Background rejection',fontsize=20)\n",
    "        ax.set_title('ROC: Node '+str(nodename[i]),fontsize=20)\n",
    "        #ax.set_yscale(\"log\", nonposy='clip')\n",
    "        ax.legend(loc=\"upper left\",fontsize=10)\n",
    "    fig.savefig(od+\"/ROC\"+timestr+\".pdf\")\n",
    "    figMVA.savefig(od+\"/output\"+timestr+\".pdf\")\n",
    "\n",
    "def in_ipynb():\n",
    "    try:\n",
    "        cfg = get_ipython().config\n",
    "        print(cfg)\n",
    "        if 'jupyter' in cfg['IPKernelApp']['connection_file']:\n",
    "            return True\n",
    "        else:\n",
    "            return False\n",
    "    except NameError:\n",
    "        return False\n",
    "\n",
    "\n",
    "if in_ipynb(): \n",
    "    print(\"In IPython\")\n",
    "    exec(\"import ConfigMultiClass as Conf\")\n",
    "    TrainConfig=\"ConfigMultiClass\"\n",
    "else:\n",
    "    TrainConfig=sys.argv[1]\n",
    "    prGreen(\"Importing settings from \"+ TrainConfig.replace(\"/\", \".\"))\n",
    "    #exec(\"from \"+TrainConfig+\" import *\")\n",
    "    importConfig=TrainConfig.replace(\"/\", \".\")\n",
    "    exec(\"import \"+importConfig+\" as Conf\")"
   ]
  },
  {
   "cell_type": "code",
   "execution_count": 2,
   "id": "illegal-petroleum",
   "metadata": {},
   "outputs": [],
   "source": [
    "def load_trained_model(weights_path, num_variables, optimizer,nClasses):\n",
    "    model = baseline_model(num_variables, optimizer,nClasses)\n",
    "    model.load_weights(weights_path)\n",
    "    return model\n",
    "\n",
    "def normalise(x_train, x_test):\n",
    "    mu = np.mean(x_train, axis=0)\n",
    "    std = np.std(x_train, axis=0)\n",
    "    x_train_normalised = (x_train - mu) / std\n",
    "    x_test_normalised = (x_test - mu) / std\n",
    "    return x_train_normalised, x_test_normalised\n",
    "\n",
    "def check_dir(dir):\n",
    "    if not os.path.exists(dir):\n",
    "        print('mkdir: ', dir)\n",
    "        os.makedirs(dir)\n",
    "\n",
    "# Ratio always > 1. mu use in natural log multiplied into ratio. Keep mu above 1 to avoid class weights going negative.\n",
    "def create_class_weight(labels_dict,mu=0.9):\n",
    "    total = np.sum(list(labels_dict.values())) # total number of examples in all datasets\n",
    "    keys = list(labels_dict.keys()) # labels\n",
    "    class_weight = dict()\n",
    "    print('total: ', total)\n",
    "\n",
    "    for key in keys:\n",
    "        # logarithm smooths the weights for very imbalanced classes.\n",
    "        score = math.log(mu*total/float(labels_dict[key])) # natlog(parameter * total number of examples / number of examples for given label)\n",
    "        #score = float(total/labels_dict[key])\n",
    "        print('score = ', score)\n",
    "        if score > 0.:\n",
    "            class_weight[key] = score\n",
    "        else :\n",
    "            class_weight[key] = 1.\n",
    "    return class_weight\n",
    "\n",
    "\n",
    "# In[2]:"
   ]
  },
  {
   "cell_type": "code",
   "execution_count": 3,
   "id": "posted-sector",
   "metadata": {},
   "outputs": [
    {
     "name": "stderr",
     "output_type": "stream",
     "text": [
      "\r",
      "  0%|          | 0/3 [00:00<?, ?it/s]"
     ]
    },
    {
     "name": "stdout",
     "output_type": "stream",
     "text": [
      "Using Keras version:  2.2.4-tf\n",
      "['Lep1_pt', 'Lep2_pt', 'Lep1_eta', 'Lep2_eta', 'Lep1_phi', 'Lep2_phi', 'mT_lep2', 'mT_lep1', 'mindr_lep1_jet', 'mindr_lep2_jet', 'mTTH_2lss', 'dEtaBB_2lss', 'dEtaLL_BBframe_2lss', 'dEtaBB_LLframe_2lss', 'avg_dr_jet', 'nSelJets', 'met', 'met_phi']\n",
      "['Lep1_pt', 'Lep2_pt', 'Lep1_eta', 'Lep2_eta', 'Lep1_phi', 'Lep2_phi', 'mT_lep2', 'mT_lep1', 'mindr_lep1_jet', 'mindr_lep2_jet', 'mTTH_2lss', 'dEtaBB_2lss', 'dEtaLL_BBframe_2lss', 'dEtaBB_LLframe_2lss', 'avg_dr_jet', 'nSelJets', 'met', 'met_phi']\n",
      "<train-DNN> Input file path:  /eos/user/a/akapoor/SWAN_projects/ttHCPnewStrategy/\n",
      "<train-DNN> Creating new data .csv @: /eos/user/a/akapoor/SWAN_projects/ttHCPnewStrategy/ . . . . \n",
      "ttH\n",
      "['ttH']\n",
      "criteria:  (Entry$%2==0) & (Entry$%1==0)\n"
     ]
    },
    {
     "name": "stderr",
     "output_type": "stream",
     "text": [
      "/cvmfs/sft.cern.ch/lcg/views/LCG_96python3/x86_64-centos7-gcc8-opt/lib/python3.6/site-packages/pandas/core/frame.py:6692: FutureWarning: Sorting because non-concatenation axis is not aligned. A future version\n",
      "of pandas will change to not sort by default.\n",
      "\n",
      "To accept the future behavior, pass 'sort=False'.\n",
      "\n",
      "To retain the current behavior and silence the warning, pass 'sort=True'.\n",
      "\n",
      "  sort=sort)\n",
      "/usr/local/bin/start_ipykernel.py:100: RuntimeWarning: invalid value encountered in less\n",
      "\r",
      " 33%|███▎      | 1/3 [00:02<00:04,  2.40s/it]"
     ]
    },
    {
     "name": "stdout",
     "output_type": "stream",
     "text": [
      "TotalWeights = 0.000000\n",
      "ttH events with -ve weights 0\n",
      "tHQ\n",
      "['tHQ']\n",
      "criteria:  (Entry$%2==0) & (Entry$%1==0)\n"
     ]
    },
    {
     "name": "stderr",
     "output_type": "stream",
     "text": [
      "\r",
      " 67%|██████▋   | 2/3 [00:03<00:02,  2.13s/it]"
     ]
    },
    {
     "name": "stdout",
     "output_type": "stream",
     "text": [
      "TotalWeights = 0.000000\n",
      "tHQ events with -ve weights 0\n",
      "ttW\n",
      "['ttW']\n",
      "criteria:  (Entry$%2==0) & (Entry$%1==0)\n"
     ]
    },
    {
     "name": "stderr",
     "output_type": "stream",
     "text": [
      "100%|██████████| 3/3 [00:08<00:00,  2.98s/it]"
     ]
    },
    {
     "name": "stdout",
     "output_type": "stream",
     "text": [
      "TotalWeights = 0.000000\n",
      "ttW events with -ve weights 0\n",
      "<load_data> data columns:  ['Lep1_eta', 'Lep1_phi', 'Lep1_pt', 'Lep2_eta', 'Lep2_phi', 'Lep2_pt', 'avg_dr_jet', 'dEtaBB_2lss', 'dEtaBB_LLframe_2lss', 'dEtaLL_BBframe_2lss', 'key', 'mTTH_2lss', 'mT_lep1', 'mT_lep2', 'met', 'met_phi', 'mindr_lep1_jet', 'mindr_lep2_jet', 'nSelJets', 'process', 'sampleWeight', 'target']\n"
     ]
    },
    {
     "name": "stderr",
     "output_type": "stream",
     "text": [
      "\n",
      "  0%|          | 0/3 [00:00<?, ?it/s]"
     ]
    },
    {
     "name": "stdout",
     "output_type": "stream",
     "text": [
      "ttH\n",
      "['ttH']\n",
      "criteria:  (Entry$%2!=0) & (Entry$%1==0)\n"
     ]
    },
    {
     "name": "stderr",
     "output_type": "stream",
     "text": [
      "\r",
      " 33%|███▎      | 1/3 [00:02<00:04,  2.24s/it]"
     ]
    },
    {
     "name": "stdout",
     "output_type": "stream",
     "text": [
      "TotalWeights = 0.000000\n",
      "ttH events with -ve weights 0\n",
      "tHQ\n",
      "['tHQ']\n",
      "criteria:  (Entry$%2!=0) & (Entry$%1==0)\n"
     ]
    },
    {
     "name": "stderr",
     "output_type": "stream",
     "text": [
      "\r",
      " 67%|██████▋   | 2/3 [00:03<00:02,  2.02s/it]"
     ]
    },
    {
     "name": "stdout",
     "output_type": "stream",
     "text": [
      "TotalWeights = 0.000000\n",
      "tHQ events with -ve weights 0\n",
      "ttW\n",
      "['ttW']\n",
      "criteria:  (Entry$%2!=0) & (Entry$%1==0)\n"
     ]
    },
    {
     "name": "stderr",
     "output_type": "stream",
     "text": [
      "100%|██████████| 3/3 [00:08<00:00,  2.90s/it]"
     ]
    },
    {
     "name": "stdout",
     "output_type": "stream",
     "text": [
      "TotalWeights = 0.000000\n",
      "ttW events with -ve weights 0\n",
      "<load_data> data columns:  ['Lep1_eta', 'Lep1_phi', 'Lep1_pt', 'Lep2_eta', 'Lep2_phi', 'Lep2_pt', 'avg_dr_jet', 'dEtaBB_2lss', 'dEtaBB_LLframe_2lss', 'dEtaLL_BBframe_2lss', 'key', 'mTTH_2lss', 'mT_lep1', 'mT_lep2', 'met', 'met_phi', 'mindr_lep1_jet', 'mindr_lep2_jet', 'nSelJets', 'process', 'sampleWeight', 'target']\n"
     ]
    },
    {
     "name": "stderr",
     "output_type": "stream",
     "text": [
      "\n"
     ]
    },
    {
     "name": "stdout",
     "output_type": "stream",
     "text": [
      "   Lep1_eta  Lep1_phi     Lep1_pt  Lep2_eta  Lep2_phi     Lep2_pt  avg_dr_jet  \\\n",
      "0  1.042480  0.645630  170.412811  1.736816 -1.052002   44.319221    2.454689   \n",
      "1  0.877197  1.245605   67.834991  1.429932 -1.858398   63.166920    1.650879   \n",
      "2 -0.866455 -2.299316  230.776733  0.994507  1.021240  118.240814    2.281854   \n",
      "3  1.616455  2.924805   39.230625 -0.337891  0.875854   32.049858    2.089373   \n",
      "4 -1.020508 -2.277344  164.233551 -0.961426  0.432129   66.717758    2.438204   \n",
      "\n",
      "   dEtaBB_2lss  dEtaBB_LLframe_2lss  dEtaLL_BBframe_2lss  ...    mT_lep1  \\\n",
      "0     0.654175             0.273923             0.466012  ...  13.569746   \n",
      "1     0.456848             0.455292             0.115279  ...  82.121544   \n",
      "2     2.714600             2.252785             2.321401  ...  80.847031   \n",
      "3     2.010742             1.388786             0.955968  ...  71.684204   \n",
      "4     1.436157             0.918490             0.341036  ...  97.183266   \n",
      "\n",
      "      mT_lep2         met   met_phi  mindr_lep1_jet  mindr_lep2_jet  nSelJets  \\\n",
      "0   90.518509   85.949936  0.533447        1.096231        1.404514         5   \n",
      "1   71.227501   45.789242 -0.410889        1.212321        0.913339         2   \n",
      "2  233.631821  118.619102 -1.789795        1.774269        0.735851         5   \n",
      "3   31.201439   32.810986 -0.127930        0.463525        0.497034         7   \n",
      "4   91.655937   57.722412 -1.229492        1.083095        0.646614         5   \n",
      "\n",
      "   process sampleWeight target  \n",
      "0      ttH          NaN      0  \n",
      "1      ttH          NaN      0  \n",
      "2      ttH          NaN      0  \n",
      "3      ttH          NaN      0  \n",
      "4      ttH          NaN      0  \n",
      "\n",
      "[5 rows x 22 columns]\n"
     ]
    }
   ],
   "source": [
    "print('Using Keras version: ', tf.keras.__version__)\n",
    "\n",
    "do_model_fit = 1\n",
    "classweights_name = 'InverseSRYields'#args.classweights''\n",
    "selection = 'th'#args.selection''\n",
    "# Number of classes to use\n",
    "number_of_classes = Conf.NClass\n",
    "# Create instance of output directory where all results are saved.\n",
    "output_directory = Conf.output_directory\n",
    "od = output_directory\n",
    "\n",
    "check_dir(output_directory)\n",
    "\n",
    "# Create plots subdirectory\n",
    "plots_dir = os.path.join(output_directory,'plots/'+timestr)\n",
    "plots_dir3 = os.path.join(output_directory,'plots3/')\n",
    "plots_dir4 = os.path.join(output_directory,'plots4/')\n",
    "\n",
    "#input_var_jsonFile = open('input_vars_SigRegion_wFwdJet.json','r')\n",
    "# input_var_jsonFile = open('inputfor2lss.json','r')\n",
    "# input_var_jsonFile1 = open('inputfor2lss1.json','r')\n",
    "\n",
    "selection_criteria1 = Conf.Train_selection_criteria\n",
    "selection_criteria2 = Conf.Test_selection_criteria\n",
    "\n",
    "criteria1=[selection_criteria1+\" & \"+Conf.selections[key] for key in Conf.keys]\n",
    "criteria2=[selection_criteria2+\" & \"+Conf.selections[key] for key in Conf.keys]\n",
    "\n",
    "#Before split\n",
    "variable_list1 = Conf.Varlist\n",
    "#After split\n",
    "variable_list = Conf.Varlist\n",
    "\n",
    "# Create list of headers for dataset .csv\n",
    "column_headers = []\n",
    "column_headers1 = []\n",
    "for key in variable_list:\n",
    "    column_headers.append(key)\n",
    "for key in variable_list1:\n",
    "    column_headers1.append(key)\n",
    "    \n",
    "print(column_headers)\n",
    "print(column_headers1)\n",
    "\n",
    "# Create instance of the input files directory\n",
    "inputs_file_path = Conf.inputs_file_path\n",
    "\n",
    "#'#/publicfs/cms/data/TopQuark/cms13TeV/ForDNNSharing/sample'\n",
    "\n",
    "# Load ttree into .csv including all variables listed in column_headers\n",
    "print('<train-DNN> Input file path: ', inputs_file_path)\n",
    "#outputdataframe_name = '%s/output_dataframe_%s.csv' %(output_directory,selection)\n",
    "outputdataframe_nametr = '%s/output_dataframe_tr_%s.csv' %(output_directory,selection)\n",
    "outputdataframe_namete = '%s/output_dataframe_te_%s.csv' %(output_directory,selection)\n",
    "\n",
    "print('<train-DNN> Creating new data .csv @: %s . . . . ' % (inputs_file_path))\n",
    "datatr = load_data(inputs_file_path,column_headers1,criteria1,keysf=Conf.keys,sampleNamesf=Conf.sampleNames,fileNamesf=Conf.fileNames,targetf=Conf.target)\n",
    "datate = load_data(inputs_file_path,column_headers1,criteria2,keysf=Conf.keys,sampleNamesf=Conf.sampleNames,fileNamesf=Conf.fileNames,targetf=Conf.target)\n",
    "\n",
    "print(datatr.head())"
   ]
  },
  {
   "cell_type": "code",
   "execution_count": 4,
   "id": "continent-scheme",
   "metadata": {},
   "outputs": [
    {
     "name": "stdout",
     "output_type": "stream",
     "text": [
      "<train-DNN> Training features:  ['Lep1_pt', 'Lep2_pt', 'Lep1_eta', 'Lep2_eta', 'Lep1_phi', 'Lep2_phi', 'mT_lep2', 'mT_lep1', 'mindr_lep1_jet', 'mindr_lep2_jet', 'mTTH_2lss', 'dEtaBB_2lss', 'dEtaLL_BBframe_2lss', 'dEtaBB_LLframe_2lss', 'avg_dr_jet', 'nSelJets', 'met', 'met_phi']\n",
      "Training events:530724\n",
      "Training events:530724\n",
      "Training events:530724\n"
     ]
    },
    {
     "name": "stderr",
     "output_type": "stream",
     "text": [
      "WARNING: Logging before flag parsing goes to stderr.\n",
      "W0402 20:29:28.862083 139846036191040 deprecation.py:506] From /cvmfs/sft.cern.ch/lcg/views/LCG_96python3/x86_64-centos7-gcc8-opt/lib/python3.6/site-packages/tensorflow/python/ops/init_ops.py:1288: calling VarianceScaling.__init__ (from tensorflow.python.ops.init_ops) with dtype is deprecated and will be removed in a future version.\n",
      "Instructions for updating:\n",
      "Call initializer instance with the dtype argument instead of passing it to the constructor\n"
     ]
    },
    {
     "name": "stdout",
     "output_type": "stream",
     "text": [
      "Train on 530724 samples, validate on 530722 samples\n",
      "Epoch 1/10\n",
      "530724/530724 [==============================] - 4s 7us/sample - loss: 2.6743 - acc: 0.5425 - val_loss: 0.8828 - val_acc: 0.6074\n",
      "Epoch 2/10\n",
      "530724/530724 [==============================] - 4s 7us/sample - loss: 0.8893 - acc: 0.5983 - val_loss: 0.8732 - val_acc: 0.6100\n",
      "Epoch 3/10\n",
      "530724/530724 [==============================] - 4s 7us/sample - loss: 0.8805 - acc: 0.6110 - val_loss: 0.8668 - val_acc: 0.6137\n",
      "Epoch 4/10\n",
      "530724/530724 [==============================] - 4s 7us/sample - loss: 0.8737 - acc: 0.6139 - val_loss: 0.8624 - val_acc: 0.6155\n",
      "Epoch 5/10\n",
      "530724/530724 [==============================] - 3s 6us/sample - loss: 0.8654 - acc: 0.6158 - val_loss: 0.8499 - val_acc: 0.6174\n",
      "Epoch 6/10\n",
      "530724/530724 [==============================] - 3s 6us/sample - loss: 0.8527 - acc: 0.6164 - val_loss: 0.8350 - val_acc: 0.6156\n",
      "Epoch 7/10\n",
      "530724/530724 [==============================] - 4s 7us/sample - loss: 0.8381 - acc: 0.6164 - val_loss: 0.8207 - val_acc: 0.6191\n",
      "Epoch 8/10\n",
      "530724/530724 [==============================] - 3s 7us/sample - loss: 0.8287 - acc: 0.6182 - val_loss: 0.8161 - val_acc: 0.6242\n",
      "Epoch 9/10\n",
      "530724/530724 [==============================] - 3s 7us/sample - loss: 0.8242 - acc: 0.6214 - val_loss: 0.8100 - val_acc: 0.6273\n",
      "Epoch 10/10\n",
      "530724/530724 [==============================] - 3s 5us/sample - loss: 0.8207 - acc: 0.6239 - val_loss: 0.8127 - val_acc: 0.6236\n",
      "Model: \"sequential\"\n",
      "_________________________________________________________________\n",
      "Layer (type)                 Output Shape              Param #   \n",
      "=================================================================\n",
      "dense (Dense)                (None, 36)                684       \n",
      "_________________________________________________________________\n",
      "dense_1 (Dense)              (None, 18)                666       \n",
      "_________________________________________________________________\n",
      "dense_2 (Dense)              (None, 18)                342       \n",
      "_________________________________________________________________\n",
      "dense_3 (Dense)              (None, 18)                342       \n",
      "_________________________________________________________________\n",
      "dropout (Dropout)            (None, 18)                0         \n",
      "_________________________________________________________________\n",
      "dense_4 (Dense)              (None, 3)                 57        \n",
      "=================================================================\n",
      "Total params: 2,091\n",
      "Trainable params: 2,091\n",
      "Non-trainable params: 0\n",
      "_________________________________________________________________\n"
     ]
    },
    {
     "name": "stderr",
     "output_type": "stream",
     "text": [
      "2021-04-02 20:29:29.612266: I tensorflow/core/platform/cpu_feature_guard.cc:142] Your CPU supports instructions that this TensorFlow binary was not compiled to use: AVX2 FMA\n",
      "2021-04-02 20:29:29.632025: I tensorflow/core/platform/profile_utils/cpu_utils.cc:94] CPU Frequency: 2400025000 Hz\n",
      "2021-04-02 20:29:29.633494: I tensorflow/compiler/xla/service/service.cc:168] XLA service 0x8b0c360 executing computations on platform Host. Devices:\n",
      "2021-04-02 20:29:29.633536: I tensorflow/compiler/xla/service/service.cc:175]   StreamExecutor device (0): <undefined>, <undefined>\n",
      "2021-04-02 20:29:29.698890: W tensorflow/compiler/jit/mark_for_compilation_pass.cc:1412] (One-time warning): Not using XLA:CPU for cluster because envvar TF_XLA_FLAGS=--tf_xla_cpu_global_jit was not set.  If you want XLA:CPU, either set that envvar, or use experimental_jit_scope to enable XLA:CPU.  To confirm that XLA is active, pass --vmodule=xla_compilation_cache=1 (as a proper command-line flag, not via TF_XLA_FLAGS) or set the envvar XLA_FLAGS=--xla_hlo_profile.\n"
     ]
    }
   ],
   "source": [
    "#Extra constant\n",
    "\n",
    "datatr['sampleWeightDNN']=1\n",
    "datate['sampleWeightDNN']=1\n",
    "datatr['sampleWeightROC']=1\n",
    "datate['sampleWeightROC']=1\n",
    "\n",
    "for key,target in zip(Conf.keys,Conf.target):\n",
    "    datatr.loc[datatr.target == target, 'sampleWeightDNN']= Conf.sampleWeightDNN[key]\n",
    "    #datatr.loc[datatr.target == target, 'sampleWeightDNN']=datatr.loc[datatr.target == target, 'sampleWeightDNN'] / datatr.loc[datatr.target == target, 'sampleWeightDNN'].sum()\n",
    "    datate.loc[datate.target == target, 'sampleWeightDNN']= Conf.sampleWeightDNN[key]\n",
    "    datatr.loc[datatr.target == target, 'sampleWeightROC']= Conf.sampleWeightROC[key]\n",
    "    #datatr.loc[datatr.target == target, 'sampleWeightROC']=datatr.loc[datatr.target == target, 'sampleWeightROC'] / datatr.loc[datatr.target == target, 'sampleWeightROC'].sum()\n",
    "    datate.loc[datate.target == target, 'sampleWeightROC']= Conf.sampleWeightROC[key]\n",
    "\n",
    "# Create statistically independant lists train/test data (used to train/evaluate the network)\n",
    "#traindataset, valdataset = train_test_split(data, test_size=0.2)\n",
    "traindataset =datatr.copy()\n",
    "valdataset=datate.copy()\n",
    "#valdataset.to_csv('valid_dataset.csv', index=False)\n",
    "training_columns = column_headers\n",
    "print('<train-DNN> Training features: ', training_columns)\n",
    "\n",
    "# Select data from columns under the remaining column headers in traindataset\n",
    "X_train = traindataset[training_columns].astype('float32')\n",
    "print(\"Training events:\"+str(len(traindataset)))\n",
    "print(\"Training events:\"+str(len(traindataset[training_columns])))\n",
    "print(\"Training events:\"+str(len(X_train)))\n",
    "Y_train = traindataset.target.astype(int)\n",
    "X_test = valdataset[training_columns].astype('float32')\n",
    "Y_test = valdataset.target.astype(int)\n",
    "\n",
    "num_variables = len(training_columns)\n",
    "\n",
    "####################\n",
    "trainweights = traindataset.loc[:,'sampleWeightDNN'] #Norm weight x xsec wt x (cpscaleweight)\n",
    "trainweights = np.array(trainweights)\n",
    "\n",
    "testweights = valdataset.loc[:,'sampleWeightDNN']\n",
    "testweights = np.array(testweights)\n",
    "\n",
    "train_weights = traindataset['sampleWeightDNN'].values\n",
    "test_weights = valdataset['sampleWeightDNN'].values\n",
    "###################\n",
    "\n",
    "###################\n",
    "trainweightsROC = traindataset.loc[:,'sampleWeightROC'] #Norm weight\n",
    "trainweightsROC = np.array(trainweights)\n",
    "\n",
    "testweightsROC = valdataset.loc[:,'sampleWeightROC']\n",
    "testweightsROC = np.array(testweights)\n",
    "\n",
    "train_weightsROC = traindataset['sampleWeightROC'].values\n",
    "test_weightsROC = valdataset['sampleWeightROC'].values\n",
    "###################\n",
    "\n",
    "# Fit label encoder to Y_train\n",
    "newencoder = LabelEncoder()\n",
    "newencoder.fit(Y_train)\n",
    "# Transform to encoded array\n",
    "encoded_Y = newencoder.transform(Y_train)\n",
    "encoded_Y_test = newencoder.transform(Y_test)\n",
    "# Transform to one hot encoded arrays\n",
    "# Y_train = np_utils.to_categorical(encoded_Y)\n",
    "# Y_test = np_utils.to_categorical(encoded_Y_test)\n",
    "Y_train = to_categorical(encoded_Y)\n",
    "Y_test = to_categorical(encoded_Y_test)\n",
    "optimizer = 'Adam'#'Nadam'\n",
    "if do_model_fit == 1:\n",
    "    histories = []\n",
    "    labels = []\n",
    "    # Define model and early stopping\n",
    "    model = Conf.mymodel(num_variables,optimizer,number_of_classes)\n",
    "    DNNDict=Conf.DNNDict\n",
    "    if DNNDict['earlyStop']:\n",
    "        es = EarlyStopping(patience=10,monitor='val_loss',verbose=1)\n",
    "        history = model.fit(X_train,Y_train,validation_data=(X_test, Y_test, testweights), epochs=DNNDict['epochs'], batch_size=DNNDict['batch_size'], verbose=1, shuffle=True, sample_weight=trainweights, callbacks=[es])\n",
    "    else:\n",
    "        history = model.fit(X_train,Y_train,validation_data=(X_test, Y_test, testweights), epochs=DNNDict['epochs'], batch_size=DNNDict['batch_size'], verbose=1, shuffle=True, sample_weight=trainweights)\n",
    "    #model3 = newCNN_model(num_variables,optimizer,number_of_classes,1000,0.40)\n",
    "    \n",
    "    histories.append(history)\n",
    "    labels.append(optimizer)                                                                                                                                                                            \n",
    "else:\n",
    "    # Which model do you want to load?                  \n",
    "    model_name = 'model.h5'\n",
    "    print('<train-DNN> Loaded Model: %s' % (model_name))\n",
    "    model = load_trained_model(model_name,num_variables,optimizer,number_of_classes)\n",
    "# Node probabilities for training sample events\n",
    "result_probs = model.predict(np.array(X_train))\n",
    "result_classes = model.predict_classes(np.array(X_train))\n",
    "\n",
    "# Node probabilities for testing sample events     \n",
    "result_probs_test = model.predict(np.array(X_test))\n",
    "result_classes_test = model.predict_classes(np.array(X_test))\n",
    "# Store model in file                                        \n",
    "model_output_name =od+'/model.h5'\n",
    "model.save(model_output_name)\n",
    "weights_output_name = od+'/model_weights.h5'\n",
    "model.save_weights(weights_output_name)\n",
    "model_json = model.to_json()\n",
    "model_json_name = od+'/model_serialised.json'\n",
    "with open(model_json_name,'w') as json_file:\n",
    "    json_file.write(model_json)\n",
    "model.summary()\n",
    "#model_schematic_name = os.path.join(output_directory,od+'/model_schematic.pdf')\n",
    "#plot_model(model, to_file=model_schematic_name, show_shapes=True, show_layer_names=True)\n",
    "    "
   ]
  },
  {
   "cell_type": "code",
   "execution_count": 5,
   "id": "occupational-tumor",
   "metadata": {},
   "outputs": [
    {
     "name": "stdout",
     "output_type": "stream",
     "text": [
      "0\n",
      "1\n",
      "2\n"
     ]
    },
    {
     "data": {
      "image/png": "[encoded data removed]",
      "text/plain": [
       "<Figure size 1080x360 with 3 Axes>"
      ]
     },
     "metadata": {
      "needs_background": "light"
     },
     "output_type": "display_data"
    },
    {
     "data": {
      "image/png": "[encoded data removed]",
      "text/plain": [
       "<Figure size 1080x360 with 3 Axes>"
      ]
     },
     "metadata": {
      "needs_background": "light"
     },
     "output_type": "display_data"
    }
   ],
   "source": [
    "# In[18]:\n",
    "MakePlots(y_train=Y_train, y_test=Y_test, y_test_pred=result_probs_test, y_train_pred=result_probs, Wt_train=train_weightsROC, Wt_test=test_weightsROC,ROCMask=Conf.ROCMask,keys=Conf.keys,od=Conf.output_directory,keycolor=Conf.keycolor)\n"
   ]
  },
  {
   "cell_type": "code",
   "execution_count": null,
   "id": "southern-topic",
   "metadata": {},
   "outputs": [],
   "source": []
  },
  {
   "cell_type": "code",
   "execution_count": 6,
   "id": "knowing-protest",
   "metadata": {},
   "outputs": [],
   "source": [
    "#datatr[\"predTarget\"] = [list(p).index(max(p)) for p in model.predict(np.array(X_train))]\n",
    "#datate[\"predTarget\"] = [list(p).index(max(p)) for p in model.predict(np.array(X_test))]"
   ]
  },
  {
   "cell_type": "code",
   "execution_count": 7,
   "id": "brutal-velvet",
   "metadata": {},
   "outputs": [],
   "source": [
    "datatr[\"predTarget\"] = result_classes\n",
    "datate[\"predTarget\"] = result_classes_test"
   ]
  },
  {
   "cell_type": "code",
   "execution_count": 8,
   "id": "bearing-arena",
   "metadata": {},
   "outputs": [
    {
     "data": {
      "image/png": "[encoded data removed]",
      "text/plain": [
       "<Figure size 360x360 with 1 Axes>"
      ]
     },
     "metadata": {
      "needs_background": "light"
     },
     "output_type": "display_data"
    },
    {
     "data": {
      "image/png": "[encoded data removed]",
      "text/plain": [
       "<Figure size 360x360 with 1 Axes>"
      ]
     },
     "metadata": {
      "needs_background": "light"
     },
     "output_type": "display_data"
    }
   ],
   "source": [
    "import seaborn as sns\n",
    "confusion_matrix = pd.crosstab(datatr[\"target\"], datatr[\"predTarget\"], rownames=['Actual'], colnames=['Predicted'])\n",
    "fig, axes = plt.subplots(1, 1, figsize=(5, 5))\n",
    "sns_plot=sns.heatmap(confusion_matrix,cmap=\"YlGnBu\", annot=True, cbar=False,fmt='g',ax=axes)\n",
    "plt.savefig(od+\"/confusion_matrix_train.png\")\n",
    "\n",
    "confusion_matrix = pd.crosstab(datate[\"target\"], datate[\"predTarget\"], rownames=['Actual'], colnames=['Predicted'])\n",
    "fig, axes = plt.subplots(1, 1, figsize=(5, 5))\n",
    "sns_plot=sns.heatmap(confusion_matrix,cmap=\"YlGnBu\", annot=True, cbar=False,fmt='g',ax=axes)\n",
    "plt.savefig(od+\"/confusion_matrix_test.png\")"
   ]
  },
  {
   "cell_type": "code",
   "execution_count": 9,
   "id": "specified-taiwan",
   "metadata": {},
   "outputs": [],
   "source": [
    "original_stdout = sys.stdout\n",
    "from sklearn import metrics\n",
    "with open(od+'/ClassificationReport.txt', 'w') as f:\n",
    "    sys.stdout = f # Change the standard output to the file we created.\n",
    "    print(\"-----------------\")\n",
    "    print(\"Train Dataset Classification Report\")\n",
    "    print(metrics.classification_report(traindataset.target.astype(int), result_classes,target_names=Conf.keys))\n",
    "    print(\"-----------------\")\n",
    "    print(\"Test Dataset Classification Report\")\n",
    "    print(metrics.classification_report(valdataset.target.astype(int), result_classes_test,target_names=Conf.keys))\n",
    "    print(\"-----------------\")\n",
    "    sys.stdout = original_stdout"
   ]
  },
  {
   "cell_type": "code",
   "execution_count": null,
   "id": "twelve-contrast",
   "metadata": {},
   "outputs": [],
   "source": []
  },
  {
   "cell_type": "code",
   "execution_count": null,
   "id": "novel-roman",
   "metadata": {},
   "outputs": [],
   "source": []
  },
  {
   "cell_type": "code",
   "execution_count": null,
   "id": "hollow-pitch",
   "metadata": {},
   "outputs": [],
   "source": []
  }
 ],
 "metadata": {
  "kernelspec": {
   "display_name": "Python 3",
   "language": "python",
   "name": "python3"
  },
  "language_info": {
   "codemirror_mode": {
    "name": "ipython",
    "version": 3
   },
   "file_extension": ".py",
   "mimetype": "text/x-python",
   "name": "python",
   "nbconvert_exporter": "python",
   "pygments_lexer": "ipython3",
   "version": "3.6.5"
  }
 },
 "nbformat": 4,
 "nbformat_minor": 5
}
